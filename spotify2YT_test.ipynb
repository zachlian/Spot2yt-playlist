{
  "cells": [
    {
      "cell_type": "code",
      "execution_count": 2,
      "metadata": {
        "colab": {
          "base_uri": "https://localhost:8080/"
        },
        "id": "2WYR3TGRnGiZ",
        "outputId": "d8c72679-3ac0-49d8-e2f6-6e23481d2123"
      },
      "outputs": [
        {
          "name": "stdout",
          "output_type": "stream",
          "text": [
            "Collecting spotify_to_ytmusic\n",
            "  Downloading spotify_to_ytmusic-0.3.2-py3-none-any.whl (13 kB)\n",
            "Collecting ytmusicapi>=1.0 (from spotify_to_ytmusic)\n",
            "  Downloading ytmusicapi-1.3.2-py3-none-any.whl (69 kB)\n",
            "\u001b[2K     \u001b[90m━━━━━━━━━━━━━━━━━━━━━━━━━━━━━━━━━━━━━━━━\u001b[0m \u001b[32m69.8/69.8 kB\u001b[0m \u001b[31m2.0 MB/s\u001b[0m eta \u001b[36m0:00:00\u001b[0m\n",
            "\u001b[?25hCollecting spotipy>=2.23.0 (from spotify_to_ytmusic)\n",
            "  Downloading spotipy-2.23.0-py3-none-any.whl (29 kB)\n",
            "Requirement already satisfied: platformdirs>=3.2 in /usr/local/lib/python3.10/dist-packages (from spotify_to_ytmusic) (4.0.0)\n",
            "Collecting redis>=3.5.3 (from spotipy>=2.23.0->spotify_to_ytmusic)\n",
            "  Downloading redis-5.0.1-py3-none-any.whl (250 kB)\n",
            "\u001b[2K     \u001b[90m━━━━━━━━━━━━━━━━━━━━━━━━━━━━━━━━━━━━━━━━\u001b[0m \u001b[32m250.3/250.3 kB\u001b[0m \u001b[31m5.3 MB/s\u001b[0m eta \u001b[36m0:00:00\u001b[0m\n",
            "\u001b[?25hRequirement already satisfied: requests>=2.25.0 in /usr/local/lib/python3.10/dist-packages (from spotipy>=2.23.0->spotify_to_ytmusic) (2.31.0)\n",
            "Requirement already satisfied: six>=1.15.0 in /usr/local/lib/python3.10/dist-packages (from spotipy>=2.23.0->spotify_to_ytmusic) (1.16.0)\n",
            "Requirement already satisfied: urllib3>=1.26.0 in /usr/local/lib/python3.10/dist-packages (from spotipy>=2.23.0->spotify_to_ytmusic) (2.0.7)\n",
            "Requirement already satisfied: async-timeout>=4.0.2 in /usr/local/lib/python3.10/dist-packages (from redis>=3.5.3->spotipy>=2.23.0->spotify_to_ytmusic) (4.0.3)\n",
            "Requirement already satisfied: charset-normalizer<4,>=2 in /usr/local/lib/python3.10/dist-packages (from requests>=2.25.0->spotipy>=2.23.0->spotify_to_ytmusic) (3.3.2)\n",
            "Requirement already satisfied: idna<4,>=2.5 in /usr/local/lib/python3.10/dist-packages (from requests>=2.25.0->spotipy>=2.23.0->spotify_to_ytmusic) (3.4)\n",
            "Requirement already satisfied: certifi>=2017.4.17 in /usr/local/lib/python3.10/dist-packages (from requests>=2.25.0->spotipy>=2.23.0->spotify_to_ytmusic) (2023.7.22)\n",
            "Installing collected packages: redis, ytmusicapi, spotipy, spotify_to_ytmusic\n",
            "Successfully installed redis-5.0.1 spotify_to_ytmusic-0.3.2 spotipy-2.23.0 ytmusicapi-1.3.2\n"
          ]
        }
      ],
      "source": [
        "!pip install spotify_to_ytmusic"
      ]
    },
    {
      "cell_type": "code",
      "execution_count": null,
      "metadata": {
        "colab": {
          "base_uri": "https://localhost:8080/"
        },
        "id": "hL_9C2OTwpWs",
        "outputId": "c4a750ff-3d25-47c6-d1f9-4b3831052b4d"
      },
      "outputs": [],
      "source": [
        "import spotify_to_ytmusic\n",
        "from spotify_to_ytmusic import settings\n",
        "from spotify_to_ytmusic import setup\n",
        "\n",
        "if __name__ == '__main__':\n",
        "    setup.setup()"
      ]
    },
    {
      "cell_type": "code",
      "execution_count": 13,
      "metadata": {
        "colab": {
          "base_uri": "https://localhost:8080/"
        },
        "id": "L7jcsVK30q5w",
        "outputId": "59837251-44f1-4a6f-d469-552ee5eb5d9e"
      },
      "outputs": [
        {
          "name": "stdout",
          "output_type": "stream",
          "text": [
            "Enter the Spotify playlist link: https://open.spotify.com/playlist/1xGetvbbFz5zoreaKPCCdJ?si=12dda6f6588e4855\n",
            "Enter the name for the YouTube Music playlist (leave blank for default): \n",
            "Enter the description for the YouTube Music playlist (leave blank for default): \n",
            "Make the YouTube Music playlist public? (yes/no): no\n",
            "Getting Spotify tracks...\n",
            "Spotify tracks: 13/13\n",
            "Searching YouTube...\n",
            "YouTube tracks: 10/13\n",
            "Success: created playlist '我的播放清單 #10' at\n",
            "https://music.youtube.com/playlist?list=PLfGa7XRSq4DMa9ncOXRnQpMt4JuKCfufu\n"
          ]
        }
      ],
      "source": [
        "from spotify_to_ytmusic.spotify import Spotify\n",
        "from spotify_to_ytmusic.ytmusic import YTMusicTransfer\n",
        "spotify_playlist_link = input(\"Enter the Spotify playlist link: \")\n",
        "name = input(\"Enter the name for the YouTube Music playlist (leave blank for default): \")\n",
        "info = input(\"Enter the description for the YouTube Music playlist (leave blank for default): \")\n",
        "is_public = input(\"Make the YouTube Music playlist public? (yes/no): \").lower() == \"yes\"\n",
        "spotify = Spotify()\n",
        "ytmusic = YTMusicTransfer()\n",
        "\n",
        "try:\n",
        "    playlist = spotify.getSpotifyPlaylist(spotify_playlist_link)\n",
        "    videoIds = ytmusic.search_songs(playlist[\"tracks\"])\n",
        "\n",
        "    name = name if name else playlist[\"name\"]\n",
        "    info = info if info else playlist[\"description\"]\n",
        "\n",
        "    playlist_id = ytmusic.create_playlist(name, info, \"PUBLIC\" if is_public else \"PRIVATE\", videoIds)\n",
        "    print(f\"Success: created playlist '{name}' at\\n\"\n",
        "            f\"https://music.youtube.com/playlist?list={playlist_id}\")\n",
        "except Exception as ex:\n",
        "    print(f\"Could not create playlist. Error: {str(ex)}\")"
      ]
    }
  ],
  "metadata": {
    "colab": {
      "provenance": []
    },
    "kernelspec": {
      "display_name": "Python 3",
      "name": "python3"
    },
    "language_info": {
      "name": "python"
    }
  },
  "nbformat": 4,
  "nbformat_minor": 0
}
